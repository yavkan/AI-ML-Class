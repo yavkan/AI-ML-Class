{
 "cells": [
  {
   "cell_type": "code",
   "execution_count": 20,
   "id": "d99b42e5-6193-4cef-85fd-51bd736a292e",
   "metadata": {},
   "outputs": [],
   "source": [
    "import numpy as np"
   ]
  },
  {
   "cell_type": "code",
   "execution_count": 21,
   "id": "4e26e314-526b-45bd-a8fd-a985446f8787",
   "metadata": {},
   "outputs": [],
   "source": [
    "arr1 = np.array([1, 2, 3, 4, 5])\n",
    "arr2 = np.array([[1, 2, 3, 9], [4, 5, 6, 7]])"
   ]
  },
  {
   "cell_type": "code",
   "execution_count": 22,
   "id": "1e2316d8-067e-4d08-b891-7849ab6bbefe",
   "metadata": {},
   "outputs": [
    {
     "name": "stdout",
     "output_type": "stream",
     "text": [
      "1\n",
      "6\n"
     ]
    }
   ],
   "source": [
    "print(arr1[0])  # Output: 1\n",
    "print(arr2[1, 2])  # Output: 6"
   ]
  },
  {
   "cell_type": "code",
   "execution_count": 23,
   "id": "1bf566d7-e256-49af-b0ec-569cf5431044",
   "metadata": {},
   "outputs": [
    {
     "name": "stdout",
     "output_type": "stream",
     "text": [
      "[10  2  3  4  5]\n"
     ]
    }
   ],
   "source": [
    "arr1[0] = 10\n",
    "print(arr1)  # Output: [10, 2, 3, 4, 5]"
   ]
  },
  {
   "cell_type": "code",
   "execution_count": 26,
   "id": "79c88278-7300-4e63-aa91-8ad2608a0e30",
   "metadata": {},
   "outputs": [
    {
     "name": "stdout",
     "output_type": "stream",
     "text": [
      "[2 3 4]\n",
      "[[2 3 9]\n",
      " [5 6 7]]\n"
     ]
    }
   ],
   "source": [
    "# Array indexing and slicing\n",
    "print(arr1[1:4])  # Output: [2, 3, 4]\n",
    "print(arr2[:, 1:])  # Output: [[2, 3, 9], [5, 6, 7]]"
   ]
  },
  {
   "cell_type": "code",
   "execution_count": 27,
   "id": "f0096f65-058c-41bc-9e97-e1a2f8c227a1",
   "metadata": {},
   "outputs": [
    {
     "name": "stdout",
     "output_type": "stream",
     "text": [
      "[15  7  8  9 10]\n"
     ]
    }
   ],
   "source": [
    "arr3 = arr1 + 5\n",
    "print(arr3)  # Output: [15, 7, 8, 9, 10]"
   ]
  },
  {
   "cell_type": "code",
   "execution_count": 28,
   "id": "9edc7831-fd84-4093-831c-458afda005ef",
   "metadata": {},
   "outputs": [
    {
     "name": "stdout",
     "output_type": "stream",
     "text": [
      "[150  14  24  36  50]\n"
     ]
    }
   ],
   "source": [
    "arr4 = arr1 * arr3\n",
    "print(arr4) "
   ]
  },
  {
   "cell_type": "code",
   "execution_count": 29,
   "id": "2c0fc2e2-543c-4e0f-82f8-1d4cf260b1af",
   "metadata": {},
   "outputs": [
    {
     "name": "stdout",
     "output_type": "stream",
     "text": [
      "37\n",
      "4.625\n",
      "9\n"
     ]
    }
   ],
   "source": [
    "# Array aggregation and statistical operations\n",
    "print(np.sum(arr2))  # Output: 37\n",
    "print(np.mean(arr2))  # Output: 4.625\n",
    "print(np.max(arr2))  # Output: 9"
   ]
  },
  {
   "cell_type": "code",
   "execution_count": 14,
   "id": "b2d83582-fb67-4c77-9567-9ac77508c01e",
   "metadata": {},
   "outputs": [],
   "source": [
    "# Working with multi-dimensional arrays\n",
    "arr5 = np.array([[[1, 2], [3, 4]], [[5, 6], [7, 8]]])"
   ]
  },
  {
   "cell_type": "code",
   "execution_count": 15,
   "id": "88f289ef-5ee8-4530-a8c3-801fb00bbc49",
   "metadata": {},
   "outputs": [
    {
     "data": {
      "text/plain": [
       "array([[[1, 2],\n",
       "        [3, 4]],\n",
       "\n",
       "       [[5, 6],\n",
       "        [7, 8]]])"
      ]
     },
     "execution_count": 15,
     "metadata": {},
     "output_type": "execute_result"
    }
   ],
   "source": [
    "arr5"
   ]
  },
  {
   "cell_type": "code",
   "execution_count": 16,
   "id": "a59e45e2-1a9b-49a4-8838-7aec0673ea53",
   "metadata": {},
   "outputs": [
    {
     "name": "stdout",
     "output_type": "stream",
     "text": [
      "[3.16227766 1.41421356 1.73205081 2.         2.23606798]\n",
      "[2.20264658e+04 7.38905610e+00 2.00855369e+01 5.45981500e+01\n",
      " 1.48413159e+02]\n"
     ]
    }
   ],
   "source": [
    "# Universal functions in NumPy\n",
    "print(np.sqrt(arr1))  # Output: [3.16227766, 1.41421356, 1.73205081, 2., 2.23606798]\n",
    "print(np.exp(arr1))  # Output: [22026.4657948, 7.3890561, 20.08553692, 54.59815003, 148.4131591]"
   ]
  }
 ],
 "metadata": {
  "kernelspec": {
   "display_name": "Python 3 (ipykernel)",
   "language": "python",
   "name": "python3"
  },
  "language_info": {
   "codemirror_mode": {
    "name": "ipython",
    "version": 3
   },
   "file_extension": ".py",
   "mimetype": "text/x-python",
   "name": "python",
   "nbconvert_exporter": "python",
   "pygments_lexer": "ipython3",
   "version": "3.8.18"
  }
 },
 "nbformat": 4,
 "nbformat_minor": 5
}
