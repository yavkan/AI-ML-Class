{
 "cells": [
  {
   "cell_type": "code",
   "execution_count": 4,
   "id": "5114f906-3547-40a0-9846-1aeb870105ad",
   "metadata": {},
   "outputs": [],
   "source": [
    "import pandas as pd\n",
    "import numpy as np"
   ]
  },
  {
   "cell_type": "code",
   "execution_count": 5,
   "id": "790f483d-a5e3-47ed-ba24-0fb71ae91909",
   "metadata": {},
   "outputs": [
    {
     "name": "stdout",
     "output_type": "stream",
     "text": [
      "0    1.0\n",
      "1    3.0\n",
      "2    5.0\n",
      "3    NaN\n",
      "4    6.0\n",
      "5    8.0\n",
      "dtype: float64\n"
     ]
    }
   ],
   "source": [
    "# Pandas Series\n",
    "data = pd.Series([1, 3, 5, np.nan, 6, 8])\n",
    "print(data)"
   ]
  },
  {
   "cell_type": "code",
   "execution_count": 12,
   "id": "f5b20d5b-8007-4c03-b482-3d8d4148812b",
   "metadata": {},
   "outputs": [
    {
     "name": "stdout",
     "output_type": "stream",
     "text": [
      "   A  B      C\n",
      "0  1  a   True\n",
      "1  2  b  False\n",
      "2  3  c   True\n",
      "3  4  d  False\n"
     ]
    }
   ],
   "source": [
    "# Pandas DataFrame\n",
    "df = pd.DataFrame({'A': [1, 2, 3, 4], 'B': ['a', 'b', 'c', 'd'], 'C': [True, False, True, False]})\n",
    "print(df)"
   ]
  },
  {
   "cell_type": "code",
   "execution_count": 7,
   "id": "bbbdbb0d-ec94-4571-b871-958c9d6fda15",
   "metadata": {},
   "outputs": [
    {
     "name": "stdout",
     "output_type": "stream",
     "text": [
      "0    1\n",
      "1    2\n",
      "2    3\n",
      "3    4\n",
      "Name: A, dtype: int64\n",
      "A       1\n",
      "B       a\n",
      "C    True\n",
      "Name: 0, dtype: object\n",
      "   A  B      C\n",
      "1  2  b  False\n",
      "2  3  c   True\n"
     ]
    }
   ],
   "source": [
    "# Data indexing and selection\n",
    "print(df['A']) \n",
    "print(df.loc[0])\n",
    "print(df.iloc[1:3]) "
   ]
  },
  {
   "cell_type": "code",
   "execution_count": 13,
   "id": "19d6878f-edd5-4b9d-b0bb-46d00834231d",
   "metadata": {},
   "outputs": [
    {
     "name": "stdout",
     "output_type": "stream",
     "text": [
      "   A  B      C   D\n",
      "0  1  a   True  10\n",
      "1  2  b  False  20\n",
      "2  3  c   True  30\n",
      "3  4  d  False  40\n"
     ]
    }
   ],
   "source": [
    "# Data manipulation and cleaning\n",
    "df['D'] = [10, 20, 30, 40]  # Adding a new column\n",
    "print(df)"
   ]
  },
  {
   "cell_type": "code",
   "execution_count": 16,
   "id": "2b450e1c-1806-4164-86a8-630e1cc21f69",
   "metadata": {},
   "outputs": [
    {
     "name": "stdout",
     "output_type": "stream",
     "text": [
      "   A  B      C\n",
      "0  1  a   True\n",
      "1  2  b  False\n",
      "2  3  c   True\n",
      "3  4  d  False\n"
     ]
    }
   ],
   "source": [
    "df.drop('D', axis=1, inplace=True)  # Dropping a column\n",
    "print(df)"
   ]
  },
  {
   "cell_type": "code",
   "execution_count": 10,
   "id": "f0c0b981-75e4-4009-b5eb-1b38b1c79f0f",
   "metadata": {},
   "outputs": [
    {
     "name": "stdout",
     "output_type": "stream",
     "text": [
      "   A  B      C     E\n",
      "1  2  b  False  50.0\n",
      "2  3  c   True  60.0\n",
      "   A  B      C     E\n",
      "0  1  a   True   0.0\n",
      "1  2  b  False  50.0\n",
      "2  3  c   True  60.0\n",
      "3  4  d  False   0.0\n"
     ]
    }
   ],
   "source": [
    "# Handling missing data\n",
    "df['E'] = [np.nan, 50, 60, np.nan]\n",
    "print(df.dropna())  # Drop rows with missing values\n",
    "print(df.fillna(0))  # Fill missing values with 0"
   ]
  },
  {
   "cell_type": "code",
   "execution_count": 11,
   "id": "30042737-21c4-469d-a301-b2223b13158c",
   "metadata": {},
   "outputs": [
    {
     "name": "stdout",
     "output_type": "stream",
     "text": [
      "     A    C     E\n",
      "B                \n",
      "a  1.0  1.0   NaN\n",
      "b  2.0  0.0  50.0\n",
      "c  3.0  1.0  60.0\n",
      "d  4.0  0.0   NaN\n"
     ]
    }
   ],
   "source": [
    "# Data aggregation and grouping\n",
    "grouped = df.groupby('B')\n",
    "print(grouped.mean())"
   ]
  }
 ],
 "metadata": {
  "kernelspec": {
   "display_name": "Python 3 (ipykernel)",
   "language": "python",
   "name": "python3"
  },
  "language_info": {
   "codemirror_mode": {
    "name": "ipython",
    "version": 3
   },
   "file_extension": ".py",
   "mimetype": "text/x-python",
   "name": "python",
   "nbconvert_exporter": "python",
   "pygments_lexer": "ipython3",
   "version": "3.8.18"
  }
 },
 "nbformat": 4,
 "nbformat_minor": 5
}
